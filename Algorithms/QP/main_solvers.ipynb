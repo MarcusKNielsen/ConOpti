{
 "cells": [
  {
   "cell_type": "code",
   "execution_count": 1,
   "metadata": {},
   "outputs": [],
   "source": [
    "from functions import constructQP,EqualityQPSolver,constructQP,construct_matrix,sensitivity\n",
    "import numpy as np\n",
    "import matplotlib.pyplot as plt\n",
    "from time import perf_counter "
   ]
  },
  {
   "cell_type": "code",
   "execution_count": 7,
   "metadata": {},
   "outputs": [
    {
     "name": "stdout",
     "output_type": "stream",
     "text": [
      "0.0\n",
      "10\n"
     ]
    },
    {
     "name": "stderr",
     "output_type": "stream",
     "text": [
      "c:\\Users\\maria\\OneDrive - Danmarks Tekniske Universitet\\Kandidat\\1_semester\\Constrained optimization\\ConOpti\\Algorithms\\QP\\functions.py:63: LinAlgWarning: Diagonal number 12 is exactly zero. Singular matrix.\n",
      "  lu, piv = lu_factor(KKT_mat)\n"
     ]
    },
    {
     "ename": "LinAlgError",
     "evalue": "Matrix is singular.",
     "output_type": "error",
     "traceback": [
      "\u001b[1;31m---------------------------------------------------------------------------\u001b[0m",
      "\u001b[1;31mLinAlgError\u001b[0m                               Traceback (most recent call last)",
      "\u001b[1;32m~\\AppData\\Local\\Temp\\ipykernel_17076\\2617443793.py\u001b[0m in \u001b[0;36m<module>\u001b[1;34m\u001b[0m\n\u001b[0;32m     14\u001b[0m     \u001b[1;32mfor\u001b[0m \u001b[0msolver\u001b[0m \u001b[1;32min\u001b[0m \u001b[0msolvers\u001b[0m\u001b[1;33m:\u001b[0m\u001b[1;33m\u001b[0m\u001b[1;33m\u001b[0m\u001b[0m\n\u001b[0;32m     15\u001b[0m \u001b[1;33m\u001b[0m\u001b[0m\n\u001b[1;32m---> 16\u001b[1;33m         \u001b[0mx\u001b[0m\u001b[1;33m,\u001b[0m\u001b[0mlam\u001b[0m \u001b[1;33m=\u001b[0m \u001b[0mEqualityQPSolver\u001b[0m\u001b[1;33m(\u001b[0m\u001b[0mH\u001b[0m\u001b[1;33m,\u001b[0m\u001b[0mg\u001b[0m\u001b[1;33m,\u001b[0m\u001b[0mA\u001b[0m\u001b[1;33m,\u001b[0m\u001b[0mb\u001b[0m\u001b[1;33m,\u001b[0m\u001b[0msolver\u001b[0m\u001b[1;33m)\u001b[0m\u001b[1;33m\u001b[0m\u001b[1;33m\u001b[0m\u001b[0m\n\u001b[0m\u001b[0;32m     17\u001b[0m \u001b[1;33m\u001b[0m\u001b[0m\n\u001b[0;32m     18\u001b[0m         \u001b[0merr_temp\u001b[0m \u001b[1;33m=\u001b[0m \u001b[0mnp\u001b[0m\u001b[1;33m.\u001b[0m\u001b[0mabs\u001b[0m\u001b[1;33m(\u001b[0m\u001b[0mx\u001b[0m\u001b[1;33m-\u001b[0m\u001b[0mx_star\u001b[0m\u001b[1;33m)\u001b[0m\u001b[1;33m\u001b[0m\u001b[1;33m\u001b[0m\u001b[0m\n",
      "\u001b[1;32mc:\\Users\\maria\\OneDrive - Danmarks Tekniske Universitet\\Kandidat\\1_semester\\Constrained optimization\\ConOpti\\Algorithms\\QP\\functions.py\u001b[0m in \u001b[0;36mEqualityQPSolver\u001b[1;34m(H, g, A, b, solver)\u001b[0m\n\u001b[0;32m    130\u001b[0m         \u001b[0mx\u001b[0m\u001b[1;33m,\u001b[0m\u001b[0mlam\u001b[0m \u001b[1;33m=\u001b[0m \u001b[0mEqualityQPSolverLUdense\u001b[0m\u001b[1;33m(\u001b[0m\u001b[0mH\u001b[0m\u001b[1;33m,\u001b[0m \u001b[0mg\u001b[0m\u001b[1;33m,\u001b[0m \u001b[0mA\u001b[0m\u001b[1;33m,\u001b[0m \u001b[0mb\u001b[0m\u001b[1;33m)\u001b[0m\u001b[1;33m\u001b[0m\u001b[1;33m\u001b[0m\u001b[0m\n\u001b[0;32m    131\u001b[0m     \u001b[1;32melif\u001b[0m \u001b[0msolver\u001b[0m \u001b[1;33m==\u001b[0m \u001b[1;34m\"LDLdense\"\u001b[0m\u001b[1;33m:\u001b[0m\u001b[1;33m\u001b[0m\u001b[1;33m\u001b[0m\u001b[0m\n\u001b[1;32m--> 132\u001b[1;33m         \u001b[0mx\u001b[0m\u001b[1;33m,\u001b[0m\u001b[0mlam\u001b[0m \u001b[1;33m=\u001b[0m \u001b[0mEqualityQPSolverLDLdense\u001b[0m\u001b[1;33m(\u001b[0m\u001b[0mH\u001b[0m\u001b[1;33m,\u001b[0m \u001b[0mg\u001b[0m\u001b[1;33m,\u001b[0m \u001b[0mA\u001b[0m\u001b[1;33m,\u001b[0m \u001b[0mb\u001b[0m\u001b[1;33m)\u001b[0m\u001b[1;33m\u001b[0m\u001b[1;33m\u001b[0m\u001b[0m\n\u001b[0m\u001b[0;32m    133\u001b[0m     \u001b[1;32melif\u001b[0m \u001b[0msolver\u001b[0m \u001b[1;33m==\u001b[0m \u001b[1;34m\"Nullspace\"\u001b[0m\u001b[1;33m:\u001b[0m\u001b[1;33m\u001b[0m\u001b[1;33m\u001b[0m\u001b[0m\n\u001b[0;32m    134\u001b[0m         \u001b[0mx\u001b[0m\u001b[1;33m,\u001b[0m\u001b[0mlam\u001b[0m \u001b[1;33m=\u001b[0m \u001b[0mEqualityQPSolverNULLSPACE\u001b[0m\u001b[1;33m(\u001b[0m\u001b[0mH\u001b[0m\u001b[1;33m,\u001b[0m \u001b[0mg\u001b[0m\u001b[1;33m,\u001b[0m \u001b[0mA\u001b[0m\u001b[1;33m,\u001b[0m \u001b[0mb\u001b[0m\u001b[1;33m)\u001b[0m\u001b[1;33m\u001b[0m\u001b[1;33m\u001b[0m\u001b[0m\n",
      "\u001b[1;32mc:\\Users\\maria\\OneDrive - Danmarks Tekniske Universitet\\Kandidat\\1_semester\\Constrained optimization\\ConOpti\\Algorithms\\QP\\functions.py\u001b[0m in \u001b[0;36mEqualityQPSolverLDLdense\u001b[1;34m(H, g, A, b)\u001b[0m\n\u001b[0;32m     93\u001b[0m     \u001b[0mrhs_permuted\u001b[0m \u001b[1;33m=\u001b[0m \u001b[0mrhs\u001b[0m\u001b[1;33m[\u001b[0m\u001b[0mperm\u001b[0m\u001b[1;33m]\u001b[0m\u001b[1;33m\u001b[0m\u001b[1;33m\u001b[0m\u001b[0m\n\u001b[0;32m     94\u001b[0m     \u001b[0mY\u001b[0m \u001b[1;33m=\u001b[0m \u001b[0msolve\u001b[0m\u001b[1;33m(\u001b[0m\u001b[0mL\u001b[0m\u001b[1;33m,\u001b[0m\u001b[0mrhs_permuted\u001b[0m\u001b[1;33m)\u001b[0m\u001b[1;33m\u001b[0m\u001b[1;33m\u001b[0m\u001b[0m\n\u001b[1;32m---> 95\u001b[1;33m     \u001b[0msol\u001b[0m \u001b[1;33m=\u001b[0m \u001b[0msolve\u001b[0m\u001b[1;33m(\u001b[0m\u001b[0mD\u001b[0m\u001b[1;33m,\u001b[0m\u001b[0mY\u001b[0m\u001b[1;33m)\u001b[0m\u001b[1;33m\u001b[0m\u001b[1;33m\u001b[0m\u001b[0m\n\u001b[0m\u001b[0;32m     96\u001b[0m \u001b[1;33m\u001b[0m\u001b[0m\n\u001b[0;32m     97\u001b[0m     \u001b[0mx\u001b[0m \u001b[1;33m=\u001b[0m \u001b[0msol\u001b[0m\u001b[1;33m[\u001b[0m\u001b[1;33m:\u001b[0m\u001b[0mn\u001b[0m\u001b[1;33m]\u001b[0m\u001b[1;33m\u001b[0m\u001b[1;33m\u001b[0m\u001b[0m\n",
      "\u001b[1;32mc:\\Users\\maria\\.conda\\envs\\DataAlgo\\lib\\site-packages\\scipy\\linalg\\_basic.py\u001b[0m in \u001b[0;36msolve\u001b[1;34m(a, b, lower, overwrite_a, overwrite_b, check_finite, assume_a, transposed)\u001b[0m\n\u001b[0;32m    220\u001b[0m                                                (a1, b1))\n\u001b[0;32m    221\u001b[0m         \u001b[0mlu\u001b[0m\u001b[1;33m,\u001b[0m \u001b[0mipvt\u001b[0m\u001b[1;33m,\u001b[0m \u001b[0minfo\u001b[0m \u001b[1;33m=\u001b[0m \u001b[0mgetrf\u001b[0m\u001b[1;33m(\u001b[0m\u001b[0ma1\u001b[0m\u001b[1;33m,\u001b[0m \u001b[0moverwrite_a\u001b[0m\u001b[1;33m=\u001b[0m\u001b[0moverwrite_a\u001b[0m\u001b[1;33m)\u001b[0m\u001b[1;33m\u001b[0m\u001b[1;33m\u001b[0m\u001b[0m\n\u001b[1;32m--> 222\u001b[1;33m         \u001b[0m_solve_check\u001b[0m\u001b[1;33m(\u001b[0m\u001b[0mn\u001b[0m\u001b[1;33m,\u001b[0m \u001b[0minfo\u001b[0m\u001b[1;33m)\u001b[0m\u001b[1;33m\u001b[0m\u001b[1;33m\u001b[0m\u001b[0m\n\u001b[0m\u001b[0;32m    223\u001b[0m         x, info = getrs(lu, ipvt, b1,\n\u001b[0;32m    224\u001b[0m                         trans=trans, overwrite_b=overwrite_b)\n",
      "\u001b[1;32mc:\\Users\\maria\\.conda\\envs\\DataAlgo\\lib\\site-packages\\scipy\\linalg\\_basic.py\u001b[0m in \u001b[0;36m_solve_check\u001b[1;34m(n, info, lamch, rcond)\u001b[0m\n\u001b[0;32m     42\u001b[0m         \u001b[1;32mraise\u001b[0m \u001b[0mValueError\u001b[0m\u001b[1;33m(\u001b[0m\u001b[1;34mf'LAPACK reported an illegal value in {-info}-th argument.'\u001b[0m\u001b[1;33m)\u001b[0m\u001b[1;33m\u001b[0m\u001b[1;33m\u001b[0m\u001b[0m\n\u001b[0;32m     43\u001b[0m     \u001b[1;32melif\u001b[0m \u001b[1;36m0\u001b[0m \u001b[1;33m<\u001b[0m \u001b[0minfo\u001b[0m\u001b[1;33m:\u001b[0m\u001b[1;33m\u001b[0m\u001b[1;33m\u001b[0m\u001b[0m\n\u001b[1;32m---> 44\u001b[1;33m         \u001b[1;32mraise\u001b[0m \u001b[0mLinAlgError\u001b[0m\u001b[1;33m(\u001b[0m\u001b[1;34m'Matrix is singular.'\u001b[0m\u001b[1;33m)\u001b[0m\u001b[1;33m\u001b[0m\u001b[1;33m\u001b[0m\u001b[0m\n\u001b[0m\u001b[0;32m     45\u001b[0m \u001b[1;33m\u001b[0m\u001b[0m\n\u001b[0;32m     46\u001b[0m     \u001b[1;32mif\u001b[0m \u001b[0mlamch\u001b[0m \u001b[1;32mis\u001b[0m \u001b[1;32mNone\u001b[0m\u001b[1;33m:\u001b[0m\u001b[1;33m\u001b[0m\u001b[1;33m\u001b[0m\u001b[0m\n",
      "\u001b[1;31mLinAlgError\u001b[0m: Matrix is singular."
     ]
    },
    {
     "data": {
      "image/png": "[encoded data removed]",
      "text/plain": [
       "<Figure size 640x480 with 1 Axes>"
      ]
     },
     "metadata": {},
     "output_type": "display_data"
    }
   ],
   "source": [
    "\n",
    "n       = np.arange(start=10,stop=11, dtype=int)\n",
    "alpha   = 2\n",
    "solvers = [\"LUdense\",\"LDLdense\",\"Nullspace\",\"Rangespace\",\"LUsparse\"]\n",
    "\n",
    "plt.figure()\n",
    "\n",
    "for i in n:\n",
    "\n",
    "    # Current problem given current n\n",
    "    H, g, A, b, x_star,lamb_star,lenrhs = constructQP(i,alpha) \n",
    "\n",
    "    print(i)\n",
    "    # Computing solution from all solvers\n",
    "    for solver in solvers:\n",
    "\n",
    "        x,lam = EqualityQPSolver(H,g,A,b,solver)\n",
    "        \n",
    "        err_temp = np.abs(x-x_star)\n",
    "\n",
    "        plt.plot(err_temp,label=f\"n={i},solver={solver}\")\n",
    "\n",
    "plt.legend()\n",
    "plt.show()\n",
    "\n",
    "# Hvad sker der for at KKT matricen bliver singular??"
   ]
  },
  {
   "cell_type": "code",
   "execution_count": 8,
   "metadata": {},
   "outputs": [
    {
     "name": "stderr",
     "output_type": "stream",
     "text": [
      "No artists with labels found to put in legend.  Note that artists whose label start with an underscore are ignored when legend() is called with no argument.\n"
     ]
    },
    {
     "data": {
      "image/png": "[encoded data removed]",
      "text/plain": [
       "<Figure size 640x480 with 2 Axes>"
      ]
     },
     "metadata": {},
     "output_type": "display_data"
    }
   ],
   "source": [
    "H = np.array([\n",
    "    [5.0000, 1.8600, 1.2400, 1.4800, -0.4600],\n",
    "    [1.8600, 3.0000, 0.4400, 1.1200, 0.5200],\n",
    "    [1.2400, 0.4400, 3.8000, 1.5600, -0.5400],\n",
    "    [1.4800, 1.1200, 1.5600, 7.2000, -1.1200],\n",
    "    [-0.4600, 0.5200, -0.5400, -1.1200, 7.8000]\n",
    "])\n",
    "A = np.array([\n",
    "    [16.1000, 1.0000],\n",
    "    [8.5000, 1.0000],\n",
    "    [15.7000, 1.0000],\n",
    "    [10.0200, 1.0000],\n",
    "    [18.6800, 1.0000]\n",
    "])\n",
    "g = np.array([\n",
    "    -16.1000,\n",
    "    -8.5000,\n",
    "    -15.7000,\n",
    "    -10.0200,\n",
    "    -18.6800])\n",
    "\n",
    "def b_vec(val):\n",
    "    b = np.array([15,val])\n",
    "    return b\n",
    "\n",
    "b_values = np.linspace(8.5,18.68,100)\n",
    "\n",
    "fig, (ax1, ax2) = plt.subplots(2, 1) \n",
    "\n",
    "x_sol = []\n",
    "lam_sol = []\n",
    "\n",
    "for val in b_values:\n",
    "\n",
    "    x,lam = EqualityQPSolver(H,g,A,b_vec(val),\"LUdense\")\n",
    "\n",
    "    x_sol.append(x)\n",
    "    lam_sol.append(lam)\n",
    "print(x_sol)\n",
    "#ax1.plot(b_values,x_sol)   #,label = f\"x values for b={val}\")\n",
    "#ax2.plot(b_values,lam_sol) #,label=f\"lambda values for b={val}\")\n",
    "    \n",
    "\n",
    "plt.legend()\n",
    "plt.show()\n",
    "\n",
    "# Hvad skal x aksen være ?? \n"
   ]
  },
  {
   "cell_type": "code",
   "execution_count": 7,
   "metadata": {},
   "outputs": [
    {
     "name": "stdout",
     "output_type": "stream",
     "text": [
      "(5, 2)\n",
      "(5,)\n",
      "(2,)\n",
      "dg= [[-0.18104425  0.01151626  0.12304267 -0.00194094  0.04842626]\n",
      " [ 0.01151626 -0.09113189 -0.02044739  0.11073256 -0.01066954]\n",
      " [ 0.12304267 -0.02044739 -0.22549564  0.06497475  0.05792561]\n",
      " [-0.00194094  0.11073256  0.06497475 -0.15194856 -0.0218178 ]\n",
      " [ 0.04842626 -0.01066954  0.05792561 -0.0218178  -0.07386453]\n",
      " [ 0.06166713 -0.10868245  0.02577517 -0.01495657  0.03619671]\n",
      " [-0.74921753  1.78130085 -0.04789681  0.30277957 -0.28696607]]\n",
      "db= [[ 0.06166713 -0.74921753]\n",
      " [-0.10868245  1.78130085]\n",
      " [ 0.02577517 -0.04789681]\n",
      " [-0.01495657  0.30277957]\n",
      " [ 0.03619671 -0.28696607]\n",
      " [ 0.03911786 -0.53043633]\n",
      " [-0.53043633  8.62788288]]\n"
     ]
    }
   ],
   "source": [
    "resg,resb = sensitivity(H,A)\n",
    "print(A.shape)\n",
    "print(x.shape)\n",
    "print(lam.shape)\n",
    "print(\"dg=\",resg) \n",
    "print(\"db=\",resb) "
   ]
  }
 ],
 "metadata": {
  "kernelspec": {
   "display_name": "DataAlgo",
   "language": "python",
   "name": "python3"
  },
  "language_info": {
   "codemirror_mode": {
    "name": "ipython",
    "version": 3
   },
   "file_extension": ".py",
   "mimetype": "text/x-python",
   "name": "python",
   "nbconvert_exporter": "python",
   "pygments_lexer": "ipython3",
   "version": "3.9.16"
  }
 },
 "nbformat": 4,
 "nbformat_minor": 2
}
